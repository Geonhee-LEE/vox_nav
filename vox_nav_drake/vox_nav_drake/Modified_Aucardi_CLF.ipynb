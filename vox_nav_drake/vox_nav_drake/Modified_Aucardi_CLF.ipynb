{
 "cells": [
  {
   "cell_type": "code",
   "execution_count": 169,
   "metadata": {},
   "outputs": [],
   "source": [
    "# Setup matplotlib.  \n",
    "from IPython import get_ipython\n",
    "if get_ipython() is not None: get_ipython().run_line_magic(\"matplotlib\", \"inline\")"
   ]
  },
  {
   "cell_type": "code",
   "execution_count": 170,
   "metadata": {},
   "outputs": [],
   "source": [
    "import pydrake\n",
    "# python libraries\n",
    "import numpy as np\n",
    "import matplotlib.pyplot as plt\n",
    "import matplotlib.patches as patches\n",
    "from pydrake.all import (VectorSystem, DiagramBuilder, SymbolicVectorSystem, LogVectorOutput,\n",
    "                         Variable, Simulator, cos, sin)\n",
    "from math import pi          \n",
    "import math               "
   ]
  },
  {
   "cell_type": "code",
   "execution_count": 171,
   "metadata": {},
   "outputs": [],
   "source": [
    "\n",
    "# state of the robot (in cartesian coordinates)\n",
    "x = Variable(\"x\")          # \n",
    "y = Variable(\"y\")          #  \n",
    "theta = Variable(\"theta\")  # vehicle orienttaion\n",
    " \n",
    "cartesian_state = [x, y, theta]\n",
    "\n",
    "# control input of the robot\n",
    "v = Variable(\"v\") # driving velocity input\n",
    "delta = Variable(\"delta\") # steering velocity input\n",
    "input = [v, delta]\n",
    "\n",
    "# nonlinear dynamics, the whole state is measured (output = state)\n",
    "dynamics = [v * cos(theta), \n",
    "            v * sin(theta), \n",
    "            delta]\n",
    "\n",
    "robot = SymbolicVectorSystem(\n",
    "    state=cartesian_state,\n",
    "    input=input,\n",
    "    output=cartesian_state,\n",
    "    dynamics=dynamics,\n",
    ")\n",
    "\n",
    "def clip(val, min_, max_):\n",
    "    return min_ if val < min_ else max_ if val > max_ else val"
   ]
  },
  {
   "cell_type": "code",
   "execution_count": 172,
   "metadata": {},
   "outputs": [],
   "source": [
    "class ParkingController(VectorSystem):\n",
    "\n",
    "    def __init__(self, lyapunov_controller):\n",
    "        # 4 inputs (robot state)\n",
    "        # 2 outputs (robot inputs)\n",
    "        VectorSystem.__init__(self, 3, 2)\n",
    "        self.lyapunov_controller = lyapunov_controller\n",
    "\n",
    "    def euc(self, x, y, x_obs, y_obs):\n",
    "      # x and y are vehicle pose\n",
    "      return math.sqrt((x-x_obs)**2) + ((y-y_obs)**2)\n",
    "\n",
    "    def DoCalcVectorOutput(\n",
    "            self,\n",
    "            context,          # not used\n",
    "            cartesian_state,  # input of the controller\n",
    "            controller_state, # not used\n",
    "            input             # output of the controller\n",
    "        ):\n",
    "      \n",
    "        # upack state of the robot\n",
    "        z1, z2, z3 = cartesian_state\n",
    "\n",
    "        target_x, target_y, target_theta = -10,-10,3.14\n",
    "        k1 = -1.0\n",
    "        k2 = 1.0\n",
    "        \n",
    "        # state in polar coordinates\n",
    "        e = np.sqrt((z1-target_x)**2 + (z2-target_y)**2)            # radial coordinate\n",
    "        goal_heading = np.arctan2((z2-target_y), (z1-target_x))     # angular coordinate\n",
    "\n",
    "        if ((z1-target_x) < 0):\n",
    "          k1 = -k1\n",
    "          if (z2-target_y < 0):\n",
    "            goal_heading += math.pi\n",
    "          else:\n",
    "            goal_heading -= math.pi  \n",
    "\n",
    "        a = goal_heading - z3\n",
    "        tht = goal_heading\n",
    "        \n",
    "        # evaluate the function below and return the robot's input\n",
    "        input[:] = self.lyapunov_controller(e,a,tht, k1, k2)\n",
    " "
   ]
  },
  {
   "cell_type": "code",
   "execution_count": 173,
   "metadata": {},
   "outputs": [],
   "source": [
    "def lyapunov_controller(e,a,tht, k1, k2):\n",
    "\n",
    "    if abs(a < 0.1):\n",
    "      u1 = k1 * e * cos(a)\n",
    "      u2 = k2 * a + (1)*(a+tht)\n",
    "    else:\n",
    "      u1 = k1 * e * cos(a)\n",
    "      u2 = k2 * a + (cos(a)*sin(a) / a)*(a+tht)\n",
    "\n",
    "    if e < 0.1:\n",
    "      u1, u2 = 0,0\n",
    "\n",
    "    return clip(u1,-1.5,1.5), clip(u2,-0.6,0.6)"
   ]
  },
  {
   "cell_type": "code",
   "execution_count": 174,
   "metadata": {},
   "outputs": [
    {
     "data": {
      "text/plain": [
       "<pydrake.systems.analysis.SimulatorStatus at 0x7fb914d88bf0>"
      ]
     },
     "execution_count": 174,
     "metadata": {},
     "output_type": "execute_result"
    }
   ],
   "source": [
    "builder = DiagramBuilder()\n",
    "\n",
    "# add the robot to the diagram\n",
    "# the method .AddSystem() simply returns a pointer to the system\n",
    "# we passed as input, so it's ok to give it the same name\n",
    "robot = builder.AddSystem(robot)\n",
    "\n",
    "# add the controller\n",
    "controller = builder.AddSystem(ParkingController(lyapunov_controller))\n",
    "\n",
    "# wire the controller with the system\n",
    "builder.Connect(robot.get_output_port(0), controller.get_input_port(0))\n",
    "builder.Connect(controller.get_output_port(0), robot.get_input_port(0))\n",
    "\n",
    "# add a logger to the diagram\n",
    "# this will store the state trajectory\n",
    "logger = LogVectorOutput(robot.get_output_port(0), builder)\n",
    "\n",
    "# complete the construction of the diagram\n",
    "diagram = builder.Build()\n",
    "# set up a simulation environment\n",
    "simulator = Simulator(diagram)\n",
    "\n",
    "# set the initial cartesian state to a random initial position\n",
    "# try initial_state = np.random.randn(3) for a random initial state\n",
    "initial_state = [0,0,3.14] \n",
    "context = simulator.get_mutable_context()\n",
    "context.SetContinuousState(initial_state)\n",
    "\n",
    "# simulate from zero to sim_time\n",
    "# the trajectory will be stored in the logger\n",
    "integrator = simulator.get_mutable_integrator()\n",
    "target_accuracy = 1E-1\n",
    "integrator.set_target_accuracy(target_accuracy)\n",
    "\n",
    "maximum_step_size = 0.2\n",
    "integrator.set_maximum_step_size(maximum_step_size)\n",
    "\n",
    "minimum_step_size = 2E-5\n",
    "integrator.set_requested_minimum_step_size(minimum_step_size)\n",
    "\n",
    "integrator.set_throw_on_minimum_step_size_violation(True)\n",
    " \n",
    "integrator.set_fixed_step_mode(True)\n",
    "\n",
    "sim_time = 20.0\n",
    "simulator.AdvanceTo(sim_time)"
   ]
  },
  {
   "cell_type": "code",
   "execution_count": 175,
   "metadata": {},
   "outputs": [],
   "source": [
    "# vehicle size in the plot\n",
    "length = .6\n",
    "width = .3\n",
    "\n",
    "# function that draws a triangle given the cartesian state of the robot\n",
    "def draw_robot(cartesian_state, **kwargs):\n",
    "    \n",
    "    # transformation matrix from global to robot frame\n",
    "    z1, z2, z3 = cartesian_state\n",
    "    T = np.array([\n",
    "        [np.cos(z3), -np.sin(z3), z1],\n",
    "        [np.sin(z3), np.cos(z3), z2]\n",
    "    ])\n",
    "\n",
    "    # compute cartesian coordinates of the corners of the car\n",
    "    left_back = T.dot([-length/2, width/2, 1])\n",
    "    right_back = T.dot([-length/2, -width/2, 1])\n",
    "    left_front = T.dot([length/2, width/2,  1])\n",
    "    right_front = T.dot([length/2, -width/2,  1])\n",
    "\n",
    "    heading_arrow_tail = T.dot([length/2,0,1])\n",
    "    heading_arrow_head = T.dot([length,0,1])\n",
    "    \n",
    "    # draw a triangle that symbolizes the robot\n",
    "    robot = patches.Polygon(\n",
    "        np.vstack([heading_arrow_head, heading_arrow_tail, left_front, left_back, right_back, right_front, heading_arrow_tail]),\n",
    "        facecolor='none',\n",
    "        **kwargs\n",
    "    )\n",
    "\n",
    "    obstacle = patches.Ellipse((5,5),1.0,1.0)\n",
    " \n",
    "    plt.gca().add_patch(robot)\n",
    "    plt.gca().add_patch(obstacle)\n",
    "\n",
    "\n",
    "# function that draws the trajectory of the robot\n",
    "# initial and final states are red and blue, respectively\n",
    "def draw_trajectory(trajectory):\n",
    "\n",
    "    # draw trajectory of the robot in black\n",
    "    for state in trajectory.T:\n",
    "        draw_robot(state, edgecolor='k')\n",
    "        \n",
    "    # draw initial configuration of the robot in red\n",
    "    draw_robot(\n",
    "        trajectory[:,0],\n",
    "        edgecolor='r',\n",
    "        linewidth=3,\n",
    "        label='Initial configuration'\n",
    "    )\n",
    "\n",
    "    # draw final configuration of the robot in blue\n",
    "    draw_robot(\n",
    "        trajectory[:,-1],\n",
    "        edgecolor='b',\n",
    "        linewidth=3,\n",
    "        label='Final configuration'\n",
    "    )"
   ]
  },
  {
   "cell_type": "code",
   "execution_count": 176,
   "metadata": {},
   "outputs": [
    {
     "data": {
      "text/plain": [
       "Text(0.5, 1.0, 'Robot parking trajectory')"
      ]
     },
     "execution_count": 176,
     "metadata": {},
     "output_type": "execute_result"
    },
    {
     "data": {
      "image/png": "[encoded data removed]",
      "text/plain": [
       "<Figure size 720x720 with 1 Axes>"
      ]
     },
     "metadata": {
      "needs_background": "light"
     },
     "output_type": "display_data"
    }
   ],
   "source": [
    "log = logger.FindLog(context)\n",
    "\n",
    "# draw parking trajectory\n",
    "plt.figure(figsize=(10, 10))\n",
    "draw_trajectory(log.data()[0:3])\n",
    "\n",
    "# adapt figure limits to the trajectory\n",
    "robot_size = max(length, width)\n",
    "plt.xlim([\n",
    "        min(log.data()[0,:]) - robot_size,\n",
    "        max(log.data()[0,:]) + robot_size\n",
    "])\n",
    "plt.ylim([\n",
    "        min(log.data()[1,:]) - robot_size,\n",
    "        max(log.data()[1,:]) + robot_size\n",
    "])\n",
    "\n",
    "# misc plot settings\n",
    "plt.gca().set_aspect('equal')\n",
    "plt.legend()\n",
    "plt.xlabel(r'$z_1$')\n",
    "plt.ylabel(r'$z_2$')\n",
    "plt.title('Robot parking trajectory')"
   ]
  }
 ],
 "metadata": {
  "interpreter": {
   "hash": "916dbcbb3f70747c44a77c7bcd40155683ae19c65e1c03b4aa3499c5328201f1"
  },
  "kernelspec": {
   "display_name": "Python 3.8.10 64-bit",
   "language": "python",
   "name": "python3"
  },
  "language_info": {
   "codemirror_mode": {
    "name": "ipython",
    "version": 3
   },
   "file_extension": ".py",
   "mimetype": "text/x-python",
   "name": "python",
   "nbconvert_exporter": "python",
   "pygments_lexer": "ipython3",
   "version": "3.8.10"
  },
  "orig_nbformat": 4
 },
 "nbformat": 4,
 "nbformat_minor": 2
}
